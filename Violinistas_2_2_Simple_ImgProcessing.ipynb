{
  "cells": [
    {
      "cell_type": "markdown",
      "metadata": {
        "id": "view-in-github",
        "colab_type": "text"
      },
      "source": [
        "<a href=\"https://colab.research.google.com/github/jrebull/Vision/blob/main/Violinistas_2_2_Simple_ImgProcessing.ipynb\" target=\"_parent\"><img src=\"https://colab.research.google.com/assets/colab-badge.svg\" alt=\"Open In Colab\"/></a>"
      ]
    },
    {
      "cell_type": "markdown",
      "source": [
        "###### GitHub Link: https://github.com/jrebull/Vision/blob/main/Violinistas_2_2_Simple_ImgProcessing.ipynb"
      ],
      "metadata": {
        "id": "yXPKzzw6MNDW"
      }
    },
    {
      "cell_type": "markdown",
      "source": [
        "# <div align=\"center\">🎓 Applied Artificial Intelligence Master</div>\n",
        "\n",
        "<div align=\"center\">\n",
        "  \n",
        "  [![Institution](https://img.shields.io/badge/Institution-Tecnológico%20de%20Monterrey-1F497D?style=for-the-badge&logo=graduation-cap)](https://tec.mx)\n",
        "  [![Course](https://img.shields.io/badge/Course-Computer%20Vision-FF6B6B?style=for-the-badge&logo=eye)](https://tec.mx)\n",
        "  [![Activity](https://img.shields.io/badge/Activity%202.2-Google%20Colab-F9AB00?style=for-the-badge&logo=googlecolab)](https://colab.research.google.com)\n",
        "  \n",
        "</div>\n",
        "\n",
        "---\n",
        "\n",
        "<div style=\"background: linear-gradient(135deg, #667eea 0%, #764ba2 100%); padding: 30px; border-radius: 15px; margin: 20px 0;\">\n",
        "  <h2 style=\"color: white; text-align: center; margin: 0;\">\n",
        "    🤖 Visión Computacional para Imágenes y Video\n",
        "  </h2>\n",
        "</div>\n",
        "\n",
        "<br>\n",
        "\n",
        "<table style=\"width:100%; border-collapse: collapse; background: #f8f9fa; border-radius: 10px;\">\n",
        "  <tr>\n",
        "    <td style=\"padding: 15px; border-right: 2px solid #e9ecef;\">\n",
        "      <strong>👨‍🏫 Profesor Titular</strong><br>\n",
        "      <em>Dr. Gilberto Ochoa Ruiz</em>\n",
        "    </td>\n",
        "    <td style=\"padding: 15px;\">\n",
        "      <strong>👩‍🏫 Profesor Asistente</strong><br>\n",
        "      <em>MIP Ma. del Refugio Melendez Alfaro</em>\n",
        "    </td>\n",
        "  </tr>\n",
        "</table>\n",
        "\n",
        "<br>\n",
        "\n",
        "## 📊 **Actividad: Simple Image Processing**\n",
        "\n",
        "<div style=\"background: #e8f4fd; border-left: 4px solid #1976d2; padding: 15px; margin: 15px 0;\">\n",
        "  <strong>📌 Detalles de la Actividad</strong>\n",
        "  <ul style=\"margin: 10px 0;\">\n",
        "    <li><strong>Código:</strong> 2.2 Google Colab</li>\n",
        "    <li><strong>Título:</strong> Simple_ImgProcessing</li>\n",
        "    <li><strong>Fecha:</strong> 📅 Septiembre 21, 2025</li>\n",
        "  </ul>\n",
        "</div>\n",
        "\n",
        "---\n",
        "\n",
        "## 👥 **Team 11**\n",
        "\n",
        "<div style=\"background: linear-gradient(to right, #f5f7fa 0%, #c3cfe2 100%); padding: 20px; border-radius: 10px;\">\n",
        "  \n",
        "  ### 🚀 **Integrantes del Equipo**\n",
        "  \n",
        "  <table style=\"width:100%; background: white; border-radius: 8px; overflow: hidden; box-shadow: 0 2px 10px rgba(0,0,0,0.1);\">\n",
        "    <thead>\n",
        "      <tr style=\"background: #4a69bd; color: white;\">\n",
        "        <th style=\"padding: 12px; text-align: left;\">Estudiante</th>\n",
        "        <th style=\"padding: 12px; text-align: left;\">Matrícula</th>\n",
        "      </tr>\n",
        "    </thead>\n",
        "    <tbody>\n",
        "      <tr style=\"border-bottom: 1px solid #e0e0e0;\">\n",
        "        <td style=\"padding: 12px;\">\n",
        "          <strong>🧑‍💻 Javier Augusto Rebull Saucedo</strong>\n",
        "        </td>\n",
        "        <td style=\"padding: 12px;\">\n",
        "          <code style=\"background: #f0f0f0; padding: 3px 8px; border-radius: 4px;\">A01795838</code>\n",
        "        </td>\n",
        "      </tr>\n",
        "      <tr style=\"border-bottom: 1px solid #e0e0e0;\">\n",
        "        <td style=\"padding: 12px;\">\n",
        "          <strong>🧑‍💻 Juan Carlos Pérez Nava</strong>\n",
        "        </td>\n",
        "        <td style=\"padding: 12px;\">\n",
        "          <code style=\"background: #f0f0f0; padding: 3px 8px; border-radius: 4px;\">A01795941</code>\n",
        "        </td>\n",
        "      </tr>\n",
        "      <tr style=\"border-bottom: 1px solid #e0e0e0;\">\n",
        "        <td style=\"padding: 12px;\">\n",
        "          <strong>🧑‍💻 Luis Gerardo Sanchez Salazar</strong>\n",
        "        </td>\n",
        "        <td style=\"padding: 12px;\">\n",
        "          <code style=\"background: #f0f0f0; padding: 3px 8px; border-radius: 4px;\">A01232963</code>\n",
        "        </td>\n",
        "      </tr>\n",
        "      <tr>\n",
        "        <td style=\"padding: 12px;\">\n",
        "          <strong>🧑‍💻 Oscar Enrique García García</strong>\n",
        "        </td>\n",
        "        <td style=\"padding: 12px;\">\n",
        "          <code style=\"background: #f0f0f0; padding: 3px 8px; border-radius: 4px;\">A01016093</code>\n",
        "        </td>\n",
        "      </tr>\n",
        "    </tbody>\n",
        "  </table>\n",
        "  \n",
        "</div>\n",
        "\n",
        "---\n",
        "\n",
        "<div align=\"center\" style=\"margin-top: 30px;\">\n",
        "  \n",
        "  [![Made with](https://img.shields.io/badge/Made%20with-❤️-red?style=flat-square)](https://tec.mx)\n",
        "  [![Python](https://img.shields.io/badge/Python-3.x-blue?style=flat-square&logo=python)](https://python.org)\n",
        "  [![OpenCV](https://img.shields.io/badge/OpenCV-4.x-green?style=flat-square&logo=opencv)](https://opencv.org)\n",
        "  \n",
        "</div>\n",
        "\n",
        "---\n",
        "\n",
        "### 🎯 **Objetivos del Proyecto**\n",
        "\n",
        "> Este notebook implementa técnicas fundamentales de procesamiento de imágenes utilizando bibliotecas de visión computacional.\n",
        "\n",
        "---\n",
        "\n",
        "### 🛠️ **Tecnologías Utilizadas**\n",
        "\n",
        "<div style=\"display: flex; justify-content: space-around; flex-wrap: wrap; margin: 20px 0;\">\n",
        "  <div style=\"text-align: center; margin: 10px;\">\n",
        "    <img src=\"https://upload.wikimedia.org/wikipedia/commons/c/c3/Python-logo-notext.svg\" width=\"50\" height=\"50\">\n",
        "    <p><strong>Python</strong></p>\n",
        "  </div>\n",
        "  <div style=\"text-align: center; margin: 10px;\">\n",
        "    <img src=\"https://upload.wikimedia.org/wikipedia/commons/3/32/OpenCV_Logo_with_text_svg_version.svg\" width=\"50\" height=\"50\">\n",
        "    <p><strong>OpenCV</strong></p>\n",
        "  </div>\n",
        "  <div style=\"text-align: center; margin: 10px;\">\n",
        "    <img src=\"https://upload.wikimedia.org/wikipedia/commons/3/31/NumPy_logo_2020.svg\" width=\"50\" height=\"50\">\n",
        "    <p><strong>NumPy</strong></p>\n",
        "  </div>\n",
        "</div>\n",
        "\n",
        "---\n",
        "\n",
        "<div style=\"background: #f0f9ff; border: 2px solid #0ea5e9; border-radius: 10px; padding: 15px; margin: 20px 0;\">\n",
        "  <h3 style=\"color: #0284c7; margin-top: 0;\">📝 Notas Importantes</h3>\n",
        "  <ul>\n",
        "    <li>Asegúrese de tener todas las bibliotecas necesarias instaladas</li>\n",
        "    <li>El notebook requiere acceso a GPU para procesamiento óptimo</li>\n",
        "    <li>Los resultados pueden variar según las imágenes de entrada</li>\n",
        "  </ul>\n",
        "</div>\n",
        "\n",
        "---\n",
        "\n",
        "<div align=\"center\" style=\"padding: 20px; background: linear-gradient(to right, #ee7752, #e73c7e, #23a6d5, #23d5ab); -webkit-background-clip: text; -webkit-text-fill-color: transparent; background-clip: text;\">\n",
        "  <h2>¡Comencemos con el procesamiento de imágenes! 🚀</h2>\n",
        "</div>"
      ],
      "metadata": {
        "id": "6hVtWf4pMW16"
      }
    },
    {
      "cell_type": "markdown",
      "source": [
        "# 🎓 **Maestria En Ingeligencia Artificial Aplicada**\n",
        "\n",
        "## 🤖 **Curso: Visión computacional para imágenes y video**\n",
        "\n",
        "### 🏛️ Tecnológico de Monterrey\n",
        "\n",
        "#### 👨‍🏫 **Profesor titular:** Dr. Dr. Gilberto Ochoa Ruiz\n",
        "#### 👩‍🏫 **Profesor asistente:** MIP Ma. del Refugio Melendez Alfaro\n",
        "\n",
        "### 📊 **Actividad: 2.2 Google Colab - Simple_ImgProcessing**\n",
        "\n",
        "#### 📅 **Septiembre 21, 2025**\n",
        "\n",
        "### 👥 Team 11\n",
        "\n",
        "#### **Estudiantes:**\n",
        "* 🧑‍💻 Javier Augusto Rebull Saucedo (A01795838)\n",
        "* 🧑‍💻 Juan Carlos Pérez Nava (A01795941)\n",
        "* 🧑‍💻 Luis Gerardo Sanchez Salazar (A01232963)\n",
        "* 🧑‍💻 Oscar Enrique García García (A01016093)\n",
        "\n",
        "---"
      ],
      "metadata": {
        "id": "h4aOSrBnJIki"
      }
    },
    {
      "cell_type": "markdown",
      "metadata": {
        "id": "J4hynf6SGQYk"
      },
      "source": [
        "# 1. Simple Image Operations\n",
        "\n",
        "## Table of Contents\n",
        "1. [Libraries](#libraries)\n",
        "2. [Loading Images](#loading)\n",
        "3. [Resizing Images](#resize)\n",
        "4. [Negative Images](#negative)\n",
        "5. [Logarithmic Transformation](#log)\n",
        "6. [Image Binarizer](#bin)\n",
        "7. [Image Quantizer](#quant)"
      ]
    },
    {
      "cell_type": "markdown",
      "metadata": {
        "id": "TMqmNdB0GQYl"
      },
      "source": [
        "## Importing Libraries <a class=\"anchor\" id=\"libraries\" ></a>"
      ]
    },
    {
      "cell_type": "code",
      "execution_count": 1,
      "metadata": {
        "id": "vgAm4xF7GQYl"
      },
      "outputs": [],
      "source": [
        "from matplotlib import image as mpimg\n",
        "import matplotlib.pyplot as plt\n",
        "import numpy as np\n",
        "import cv2"
      ]
    },
    {
      "cell_type": "markdown",
      "metadata": {
        "id": "7lLP8xcSGQYl"
      },
      "source": [
        "## Loading Images <a class=\"anchor\" id=\"loading\"></a>"
      ]
    },
    {
      "cell_type": "code",
      "execution_count": 2,
      "metadata": {
        "colab": {
          "base_uri": "https://localhost:8080/",
          "height": 322
        },
        "id": "GBTmvXcEGQYl",
        "outputId": "ca69ddda-465b-47f2-d92e-07fa31c442a7"
      },
      "outputs": [
        {
          "output_type": "error",
          "ename": "FileNotFoundError",
          "evalue": "[Errno 2] No such file or directory: 'data/image.jpg'",
          "traceback": [
            "\u001b[0;31m---------------------------------------------------------------------------\u001b[0m",
            "\u001b[0;31mFileNotFoundError\u001b[0m                         Traceback (most recent call last)",
            "\u001b[0;32m/tmp/ipython-input-1752563282.py\u001b[0m in \u001b[0;36m<cell line: 0>\u001b[0;34m()\u001b[0m\n\u001b[0;32m----> 1\u001b[0;31m \u001b[0mimg1\u001b[0m \u001b[0;34m=\u001b[0m \u001b[0mmpimg\u001b[0m\u001b[0;34m.\u001b[0m\u001b[0mimread\u001b[0m\u001b[0;34m(\u001b[0m\u001b[0;34m'data/image.jpg'\u001b[0m\u001b[0;34m)\u001b[0m\u001b[0;34m\u001b[0m\u001b[0;34m\u001b[0m\u001b[0m\n\u001b[0m\u001b[1;32m      2\u001b[0m \u001b[0mplt\u001b[0m\u001b[0;34m.\u001b[0m\u001b[0mimshow\u001b[0m\u001b[0;34m(\u001b[0m\u001b[0mimg1\u001b[0m\u001b[0;34m)\u001b[0m\u001b[0;34m\u001b[0m\u001b[0;34m\u001b[0m\u001b[0m\n\u001b[1;32m      3\u001b[0m \u001b[0mprint\u001b[0m\u001b[0;34m(\u001b[0m\u001b[0mtype\u001b[0m\u001b[0;34m(\u001b[0m\u001b[0mimg1\u001b[0m\u001b[0;34m)\u001b[0m\u001b[0;34m)\u001b[0m\u001b[0;34m\u001b[0m\u001b[0;34m\u001b[0m\u001b[0m\n",
            "\u001b[0;32m/usr/local/lib/python3.12/dist-packages/matplotlib/image.py\u001b[0m in \u001b[0;36mimread\u001b[0;34m(fname, format)\u001b[0m\n\u001b[1;32m   1500\u001b[0m             \u001b[0;34m\"``np.array(PIL.Image.open(urllib.request.urlopen(url)))``.\"\u001b[0m\u001b[0;34m\u001b[0m\u001b[0;34m\u001b[0m\u001b[0m\n\u001b[1;32m   1501\u001b[0m             )\n\u001b[0;32m-> 1502\u001b[0;31m     \u001b[0;32mwith\u001b[0m \u001b[0mimg_open\u001b[0m\u001b[0;34m(\u001b[0m\u001b[0mfname\u001b[0m\u001b[0;34m)\u001b[0m \u001b[0;32mas\u001b[0m \u001b[0mimage\u001b[0m\u001b[0;34m:\u001b[0m\u001b[0;34m\u001b[0m\u001b[0;34m\u001b[0m\u001b[0m\n\u001b[0m\u001b[1;32m   1503\u001b[0m         return (_pil_png_to_float_array(image)\n\u001b[1;32m   1504\u001b[0m                 \u001b[0;32mif\u001b[0m \u001b[0misinstance\u001b[0m\u001b[0;34m(\u001b[0m\u001b[0mimage\u001b[0m\u001b[0;34m,\u001b[0m \u001b[0mPIL\u001b[0m\u001b[0;34m.\u001b[0m\u001b[0mPngImagePlugin\u001b[0m\u001b[0;34m.\u001b[0m\u001b[0mPngImageFile\u001b[0m\u001b[0;34m)\u001b[0m \u001b[0;32melse\u001b[0m\u001b[0;34m\u001b[0m\u001b[0;34m\u001b[0m\u001b[0m\n",
            "\u001b[0;32m/usr/local/lib/python3.12/dist-packages/PIL/Image.py\u001b[0m in \u001b[0;36mopen\u001b[0;34m(fp, mode, formats)\u001b[0m\n\u001b[1;32m   3511\u001b[0m     \u001b[0;32mif\u001b[0m \u001b[0mis_path\u001b[0m\u001b[0;34m(\u001b[0m\u001b[0mfp\u001b[0m\u001b[0;34m)\u001b[0m\u001b[0;34m:\u001b[0m\u001b[0;34m\u001b[0m\u001b[0;34m\u001b[0m\u001b[0m\n\u001b[1;32m   3512\u001b[0m         \u001b[0mfilename\u001b[0m \u001b[0;34m=\u001b[0m \u001b[0mos\u001b[0m\u001b[0;34m.\u001b[0m\u001b[0mfspath\u001b[0m\u001b[0;34m(\u001b[0m\u001b[0mfp\u001b[0m\u001b[0;34m)\u001b[0m\u001b[0;34m\u001b[0m\u001b[0;34m\u001b[0m\u001b[0m\n\u001b[0;32m-> 3513\u001b[0;31m         \u001b[0mfp\u001b[0m \u001b[0;34m=\u001b[0m \u001b[0mbuiltins\u001b[0m\u001b[0;34m.\u001b[0m\u001b[0mopen\u001b[0m\u001b[0;34m(\u001b[0m\u001b[0mfilename\u001b[0m\u001b[0;34m,\u001b[0m \u001b[0;34m\"rb\"\u001b[0m\u001b[0;34m)\u001b[0m\u001b[0;34m\u001b[0m\u001b[0;34m\u001b[0m\u001b[0m\n\u001b[0m\u001b[1;32m   3514\u001b[0m         \u001b[0mexclusive_fp\u001b[0m \u001b[0;34m=\u001b[0m \u001b[0;32mTrue\u001b[0m\u001b[0;34m\u001b[0m\u001b[0;34m\u001b[0m\u001b[0m\n\u001b[1;32m   3515\u001b[0m     \u001b[0;32melse\u001b[0m\u001b[0;34m:\u001b[0m\u001b[0;34m\u001b[0m\u001b[0;34m\u001b[0m\u001b[0m\n",
            "\u001b[0;31mFileNotFoundError\u001b[0m: [Errno 2] No such file or directory: 'data/image.jpg'"
          ]
        }
      ],
      "source": [
        "img1 = mpimg.imread('data/image.jpg')\n",
        "plt.imshow(img1)\n",
        "print(type(img1))"
      ]
    },
    {
      "cell_type": "markdown",
      "metadata": {
        "id": "tHSN7rSyGQYm"
      },
      "source": [
        "Look at the shape of this array:"
      ]
    },
    {
      "cell_type": "code",
      "execution_count": null,
      "metadata": {
        "id": "SIanYjPEGQYm"
      },
      "outputs": [],
      "source": [
        "img1.shape"
      ]
    },
    {
      "cell_type": "markdown",
      "metadata": {
        "id": "wNDIdDqiGQYm"
      },
      "source": [
        "The image is actually composed of three \"layers, or *channels*, for red, green, and blue (RGB) pixel intensities.\n",
        "\n",
        "Display the same image but this time we'll use another popular Python library for working with images - **cv2**."
      ]
    },
    {
      "cell_type": "code",
      "execution_count": null,
      "metadata": {
        "id": "b967f3-CGQYm"
      },
      "outputs": [],
      "source": [
        "img2 = cv2.imread('data/image.jpg')\n",
        "plt.imshow(img2)\n",
        "type(img2)"
      ]
    },
    {
      "cell_type": "markdown",
      "metadata": {
        "id": "R6ghaey9GQYn"
      },
      "source": [
        "The trouble is that cv2 loads the array of image data with the channels ordered as blue, green, red (BGR) instead of red, green blue (RGB).\n",
        "\n",
        "Let's fix that"
      ]
    },
    {
      "cell_type": "code",
      "execution_count": null,
      "metadata": {
        "id": "ioyZ2rlfGQYn"
      },
      "outputs": [],
      "source": [
        "img2 = cv2.cvtColor(img2, cv2.COLOR_BGR2RGB)\n",
        "print(plt.imshow(img2))"
      ]
    },
    {
      "cell_type": "markdown",
      "metadata": {
        "id": "XyfxeDN6GQYn"
      },
      "source": [
        "Lastly, one more commonly used library for image processing in Python we should consider - **PIL**:"
      ]
    },
    {
      "cell_type": "code",
      "execution_count": null,
      "metadata": {
        "id": "JOm1fqkoGQYn"
      },
      "outputs": [],
      "source": [
        "from PIL import Image\n",
        "import matplotlib.pyplot as plt\n",
        "\n",
        "img3 = Image.open('data/image.jpg')\n",
        "plt.imshow(img3)\n",
        "print(type(img3))"
      ]
    },
    {
      "cell_type": "markdown",
      "metadata": {
        "id": "1VSoV2UOGQYn"
      },
      "source": [
        "It's easy to convert a PIL JpegImageFile to a numpy array"
      ]
    },
    {
      "cell_type": "code",
      "execution_count": null,
      "metadata": {
        "id": "vq_9da6ZGQYn"
      },
      "outputs": [],
      "source": [
        "img3 = np.array(img3)\n",
        "img3.shape"
      ]
    },
    {
      "cell_type": "markdown",
      "metadata": {
        "id": "FhHToxepGQYn"
      },
      "source": [
        "Saving a numpy array in an optimized format, should you need to persist images into storage"
      ]
    },
    {
      "cell_type": "code",
      "execution_count": null,
      "metadata": {
        "id": "oxp8jvKvGQYo"
      },
      "outputs": [],
      "source": [
        "# Save the image\n",
        "np.save('data/img.npy', img3)\n",
        "\n",
        "# Load the image\n",
        "img3 = np.load('data/img.npy')\n",
        "\n",
        "plt.imshow(img3)"
      ]
    },
    {
      "cell_type": "markdown",
      "metadata": {
        "id": "StDxplpbGQYo"
      },
      "source": [
        "## Resizing an Image <a class=\"anchor\" id=\"resize\"></a>\n",
        "One of the most common manipulations of an image is to resize it.\n",
        "\n",
        "Generally, we want to ensure that all of your training images have consistent dimensions."
      ]
    },
    {
      "cell_type": "code",
      "execution_count": null,
      "metadata": {
        "id": "cUwm51KvGQYo"
      },
      "outputs": [],
      "source": [
        "from PIL import Image, ImageOps\n",
        "\n",
        "# Load the image array into a PIL Image\n",
        "orig_img = Image.fromarray(img3)\n",
        "\n",
        "# Get the image size\n",
        "o_h, o_w = orig_img.size\n",
        "print('Original size:', o_h, 'x', o_w)\n",
        "\n",
        "# We'll resize this so it's 200 x 200\n",
        "target_size = (200,200)\n",
        "new_img = orig_img.resize(target_size)\n",
        "n_h, n_w = new_img.size\n",
        "print('New size:', n_h, 'x', n_w)\n",
        "\n",
        "# Show the original and resized images\n",
        "# Create a figure\n",
        "fig = plt.figure(figsize=(12, 12))\n",
        "\n",
        "# Subplot for original image\n",
        "a=fig.add_subplot(2,1,1)\n",
        "imgplot = plt.imshow(orig_img)\n",
        "a.set_title('Before')\n",
        "\n",
        "# Subplot for resized image\n",
        "a=fig.add_subplot(2,1,2)\n",
        "imgplot = plt.imshow(new_img)\n",
        "a.set_title('After')\n",
        "\n",
        "plt.show()\n"
      ]
    },
    {
      "cell_type": "markdown",
      "metadata": {
        "id": "ATWs48-eGQYo"
      },
      "source": [
        "If we want to resize the image and change its shape without distorting it, we'll need to *scale* the image so that its largest dimension fits our new desired size."
      ]
    },
    {
      "cell_type": "code",
      "execution_count": null,
      "metadata": {
        "id": "U1Fd4FFXGQYo"
      },
      "outputs": [],
      "source": [
        "# Get the image size\n",
        "orig_height, orig_width = orig_img.size\n",
        "print('Original size:', orig_height, 'x', orig_width)\n",
        "\n",
        "# We'll resize this so it's 200 x 200\n",
        "target_size = (200,200)\n",
        "\n",
        "# Scale the image to the new size using the thumbnail method\n",
        "scaled_img = orig_img\n",
        "scaled_img.thumbnail(target_size, Image.ANTIALIAS)\n",
        "scaled_height, scaled_width = scaled_img.size\n",
        "print('Scaled size:', scaled_height, 'x', scaled_width)\n",
        "\n",
        "# Create a new white image of the target size to be the background\n",
        "new_img = Image.new(\"RGB\", target_size, (255, 255, 255))\n",
        "\n",
        "# paste the scaled image into the center of the white background image\n",
        "new_img.paste(scaled_img, (int((target_size[0] - scaled_img.size[0]) / 2), int((target_size[1] - scaled_img.size[1]) / 2)))\n",
        "new_height, new_width = new_img.size\n",
        "print('New size:', new_height, 'x', new_width)\n",
        "\n",
        "# Show the original and resized images\n",
        "# Create a figure\n",
        "fig = plt.figure(figsize=(12, 12))\n",
        "\n",
        "# Subplot for original image\n",
        "a=fig.add_subplot(3,1,1)\n",
        "imgplot = plt.imshow(orig_img)\n",
        "a.set_title('Original')\n",
        "\n",
        "# Subplot for scaled image\n",
        "a=fig.add_subplot(3,1,2)\n",
        "imgplot = plt.imshow(scaled_img)\n",
        "a.set_title('Scaled')\n",
        "\n",
        "# Subplot for resized image\n",
        "a=fig.add_subplot(3,1,3)\n",
        "imgplot = plt.imshow(new_img)\n",
        "a.set_title('Resized')\n",
        "\n",
        "plt.show()"
      ]
    },
    {
      "cell_type": "markdown",
      "metadata": {
        "id": "QMtnP8gcGQYp"
      },
      "source": [
        "## Negative Images <a class=\"anchor\" id=\"negative\"></a>"
      ]
    },
    {
      "cell_type": "code",
      "execution_count": null,
      "metadata": {
        "id": "A2C8GlbCGQYp"
      },
      "outputs": [],
      "source": [
        "orig_img = cv2.imread('data/image.jpg')\n",
        "orig_img = cv2.cvtColor(orig_img, cv2.COLOR_BGR2RGB)\n",
        "img_neg = 255 - orig_img"
      ]
    },
    {
      "cell_type": "code",
      "execution_count": null,
      "metadata": {
        "id": "m_u5UVwQGQYp"
      },
      "outputs": [],
      "source": [
        "fig = plt.figure(figsize=(8, 8))\n",
        "\n",
        "# Subplot for original image\n",
        "a=fig.add_subplot(2,1,1)\n",
        "imgplot = plt.imshow(orig_img)\n",
        "a.set_title('Original')\n",
        "\n",
        "a = fig.add_subplot(2,1,2)\n",
        "imgplot = plt.imshow(img_neg)\n",
        "a.set_title('Negative')\n",
        "\n",
        "plt.show()"
      ]
    },
    {
      "cell_type": "markdown",
      "metadata": {
        "id": "zos9MdiaGQYp"
      },
      "source": [
        "## Logarithmic Transformation <a class=\"anchor\" id=\"log\"></a>\n",
        "\n",
        "$$\n",
        "S = c * log (1 + r)\n",
        "$$\n",
        "\n",
        "where,\n",
        "- $R$ = input pixel value\n",
        "- $C$ = scaling constant and\n",
        "- $S$ = output pixel value\n",
        "\n",
        "The value of $c$ is chosen such that we get the maximum output value corresponding to the bit size used. So, the formula for calculating $c$  is as follows:\n",
        "\n",
        "$c = 255 / (log (1 + $ max input pixel value $))$"
      ]
    },
    {
      "cell_type": "code",
      "execution_count": null,
      "metadata": {
        "id": "Uhs8xsDIGQYp"
      },
      "outputs": [],
      "source": [
        "orig_img = cv2.imread('data/image.jpg')\n",
        "orig_img = cv2.cvtColor(orig_img, cv2.COLOR_BGR2RGB)\n",
        "\n",
        "# Apply log transformation method\n",
        "c = 255 / np.log(1 + np.max(orig_img))\n",
        "log_img = c * (np.log(orig_img + 1))\n",
        "\n",
        "# Specify the data type so that\n",
        "# float value will be converted to int\n",
        "log_img = np.array(log_img, dtype = np.uint8)"
      ]
    },
    {
      "cell_type": "markdown",
      "metadata": {
        "id": "NDzw2mA9GQYp"
      },
      "source": [
        "Log transformation of gives actual information by enhancing the image. If we apply this method in an image having higher pixel values then it will enhance the image more and actual information of the image will be lost."
      ]
    },
    {
      "cell_type": "code",
      "execution_count": null,
      "metadata": {
        "id": "q78wbx_dGQYq"
      },
      "outputs": [],
      "source": [
        "fig = plt.figure(figsize=(8, 8))\n",
        "\n",
        "# Subplot for original image\n",
        "a=fig.add_subplot(2,1,1)\n",
        "imgplot = plt.imshow(orig_img)\n",
        "a.set_title('Original')\n",
        "\n",
        "a = fig.add_subplot(2,1,2)\n",
        "imgplot = plt.imshow(log_img)\n",
        "a.set_title('Logarithmic Image')\n",
        "\n",
        "plt.show()"
      ]
    },
    {
      "cell_type": "markdown",
      "metadata": {
        "id": "YqqsZJvdGQYq"
      },
      "source": [
        "## Image Binarizer (Thresholding) <a class=\"anchor\" id=\"bin\"></a>\n",
        "\n",
        "Binarize pixels (set pixel values to 0 or 1) according to a threshold."
      ]
    },
    {
      "cell_type": "code",
      "execution_count": null,
      "metadata": {
        "id": "-AxMW4m4GQYq"
      },
      "outputs": [],
      "source": [
        "orig_img = cv2.imread('data/linear_gradient.png')\n",
        "orig_img = cv2.cvtColor(orig_img, cv2.COLOR_BGR2RGB)\n",
        "\n",
        "ret,thresh1 = cv2.threshold(orig_img,127,255,cv2.THRESH_BINARY)\n",
        "ret,thresh2 = cv2.threshold(orig_img,127,255,cv2.THRESH_BINARY_INV)\n",
        "ret,thresh3 = cv2.threshold(orig_img,127,255,cv2.THRESH_TRUNC)\n",
        "ret,thresh4 = cv2.threshold(orig_img,127,255,cv2.THRESH_TOZERO)\n",
        "ret,thresh5 = cv2.threshold(orig_img,127,255,cv2.THRESH_TOZERO_INV)\n",
        "\n",
        "titles = ['Original Image','BINARY','BINARY_INV','TRUNC','TOZERO','TOZERO_INV']\n",
        "images = [orig_img, thresh1, thresh2, thresh3, thresh4, thresh5]\n",
        "n = np.arange(6)\n",
        "\n",
        "fig = plt.figure(figsize=(20, 8))\n",
        "for i in n:\n",
        "  plt.subplot(2,3,i+1), plt.imshow(images[i],'gray')\n",
        "  plt.title(titles[i])\n",
        "\n",
        "plt.show()"
      ]
    },
    {
      "cell_type": "markdown",
      "metadata": {
        "id": "5EWD4yNOGQYq"
      },
      "source": [
        "## Image Quantizer  <a class=\"anchor\" id=\"quant\"></a>"
      ]
    },
    {
      "cell_type": "code",
      "execution_count": null,
      "metadata": {
        "id": "_0Y3lfuDGQYq"
      },
      "outputs": [],
      "source": [
        "orig_img = cv2.imread('data/image.jpg')\n",
        "\n",
        "Z = orig_img.reshape((-1,3))\n",
        "\n",
        "# convert to np.float32\n",
        "Z = np.float32(Z)\n",
        "\n",
        "# define criteria, number of clusters(K) and apply kmeans()\n",
        "criteria = (cv2.TERM_CRITERIA_EPS + cv2.TERM_CRITERIA_MAX_ITER, 10, 1.0)\n",
        "def colorQuant(Z, K, criteria):\n",
        "\n",
        "   ret,label,center=cv2.kmeans(Z,K,None,criteria,10,cv2.KMEANS_RANDOM_CENTERS)\n",
        "\n",
        "   # Now convert back into uint8, and make original image\n",
        "   center = np.uint8(center)\n",
        "   res = center[label.flatten()]\n",
        "   res2 = res.reshape((orig_img.shape))\n",
        "   return res2\n",
        "res1 = colorQuant(Z, 2, criteria)\n",
        "res2 = colorQuant(Z, 5, criteria)\n",
        "res3 = colorQuant(Z, 8, criteria)\n",
        "\n",
        "fig = plt.figure(figsize=(12, 8))\n",
        "\n",
        "plt.subplot(221),plt.imshow(cv2.cvtColor(orig_img, cv2.COLOR_BGR2RGB))\n",
        "plt.title('Original Image')\n",
        "\n",
        "plt.subplot(222),plt.imshow(cv2.cvtColor(res1, cv2.COLOR_BGR2RGB))\n",
        "plt.title('K=2')\n",
        "\n",
        "plt.subplot(223),plt.imshow(cv2.cvtColor(res2, cv2.COLOR_BGR2RGB))\n",
        "plt.title('K=4')\n",
        "\n",
        "plt.subplot(224),plt.imshow(cv2.cvtColor(res3, cv2.COLOR_BGR2RGB))\n",
        "plt.title('K=8')\n",
        "\n",
        "plt.show()"
      ]
    },
    {
      "cell_type": "code",
      "execution_count": null,
      "metadata": {
        "id": "y44bIqkHGQYq"
      },
      "outputs": [],
      "source": []
    }
  ],
  "metadata": {
    "kernelspec": {
      "display_name": "Python 3.8.12 ('PhD')",
      "language": "python",
      "name": "python3"
    },
    "language_info": {
      "codemirror_mode": {
        "name": "ipython",
        "version": 3
      },
      "file_extension": ".py",
      "mimetype": "text/x-python",
      "name": "python",
      "nbconvert_exporter": "python",
      "pygments_lexer": "ipython3",
      "version": "3.8.12"
    },
    "vscode": {
      "interpreter": {
        "hash": "e17d129d6f27db8b87f58b5fa141e866dbba91479774a0f83bbb21f59b590d58"
      }
    },
    "colab": {
      "provenance": [],
      "include_colab_link": true
    }
  },
  "nbformat": 4,
  "nbformat_minor": 0
}